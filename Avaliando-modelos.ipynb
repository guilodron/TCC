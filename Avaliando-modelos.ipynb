{
  "nbformat": 4,
  "nbformat_minor": 0,
  "metadata": {
    "colab": {
      "provenance": []
    },
    "kernelspec": {
      "name": "python3",
      "display_name": "Python 3"
    },
    "language_info": {
      "name": "python"
    },
    "accelerator": "GPU",
    "gpuClass": "standard"
  },
  "cells": [
    {
      "cell_type": "code",
      "execution_count": null,
      "metadata": {
        "id": "Bi59RkJu1JWL",
        "colab": {
          "base_uri": "https://localhost:8080/"
        },
        "outputId": "7f95bbb6-941e-46bf-aad4-e0c048c94835"
      },
      "outputs": [
        {
          "output_type": "stream",
          "name": "stdout",
          "text": [
            "Mounted at /content/gdrive\n"
          ]
        }
      ],
      "source": [
        "from google.colab import drive\n",
        "drive.mount('/content/gdrive')"
      ]
    },
    {
      "cell_type": "code",
      "source": [
        "%cd /content/gdrive/MyDrive/TCC/"
      ],
      "metadata": {
        "colab": {
          "base_uri": "https://localhost:8080/"
        },
        "id": "khMEtfrd1nK9",
        "outputId": "72516532-8cb3-4bfa-864a-17dcc484ea67"
      },
      "execution_count": null,
      "outputs": [
        {
          "output_type": "stream",
          "name": "stdout",
          "text": [
            "/content/gdrive/MyDrive/TCC\n"
          ]
        }
      ]
    },
    {
      "cell_type": "code",
      "source": [
        "!pip install torchvision==0.5.0\n",
        "!pip install torch==1.4.0\n",
        "# !git clone https://github.com/guilodron/yolact.git"
      ],
      "metadata": {
        "colab": {
          "base_uri": "https://localhost:8080/"
        },
        "id": "gmk0E09v15Yu",
        "outputId": "b6c2cb30-8208-4f85-8496-0f10ae0b234b"
      },
      "execution_count": null,
      "outputs": [
        {
          "output_type": "stream",
          "name": "stdout",
          "text": [
            "Looking in indexes: https://pypi.org/simple, https://us-python.pkg.dev/colab-wheels/public/simple/\n",
            "Collecting torchvision==0.5.0\n",
            "  Downloading torchvision-0.5.0-cp37-cp37m-manylinux1_x86_64.whl (4.0 MB)\n",
            "\u001b[K     |████████████████████████████████| 4.0 MB 8.9 MB/s \n",
            "\u001b[?25hRequirement already satisfied: numpy in /usr/local/lib/python3.7/dist-packages (from torchvision==0.5.0) (1.21.6)\n",
            "Requirement already satisfied: pillow>=4.1.1 in /usr/local/lib/python3.7/dist-packages (from torchvision==0.5.0) (7.1.2)\n",
            "Requirement already satisfied: six in /usr/local/lib/python3.7/dist-packages (from torchvision==0.5.0) (1.15.0)\n",
            "Collecting torch==1.4.0\n",
            "  Downloading torch-1.4.0-cp37-cp37m-manylinux1_x86_64.whl (753.4 MB)\n",
            "\u001b[K     |████████████████████████████████| 753.4 MB 7.2 kB/s \n",
            "\u001b[?25hInstalling collected packages: torch, torchvision\n",
            "  Attempting uninstall: torch\n",
            "    Found existing installation: torch 1.12.1+cu113\n",
            "    Uninstalling torch-1.12.1+cu113:\n",
            "      Successfully uninstalled torch-1.12.1+cu113\n",
            "  Attempting uninstall: torchvision\n",
            "    Found existing installation: torchvision 0.13.1+cu113\n",
            "    Uninstalling torchvision-0.13.1+cu113:\n",
            "      Successfully uninstalled torchvision-0.13.1+cu113\n",
            "\u001b[31mERROR: pip's dependency resolver does not currently take into account all the packages that are installed. This behaviour is the source of the following dependency conflicts.\n",
            "torchtext 0.13.1 requires torch==1.12.1, but you have torch 1.4.0 which is incompatible.\n",
            "torchaudio 0.12.1+cu113 requires torch==1.12.1, but you have torch 1.4.0 which is incompatible.\n",
            "fastai 2.7.9 requires torch<1.14,>=1.7, but you have torch 1.4.0 which is incompatible.\n",
            "fastai 2.7.9 requires torchvision>=0.8.2, but you have torchvision 0.5.0 which is incompatible.\u001b[0m\n",
            "Successfully installed torch-1.4.0 torchvision-0.5.0\n",
            "Looking in indexes: https://pypi.org/simple, https://us-python.pkg.dev/colab-wheels/public/simple/\n",
            "Requirement already satisfied: torch==1.4.0 in /usr/local/lib/python3.7/dist-packages (1.4.0)\n"
          ]
        }
      ]
    },
    {
      "cell_type": "code",
      "source": [
        "# Buildando DCNv2 para utilizar o YOLACT++\n",
        "%cd /content/gdrive/MyDrive/TCC/yolact/external/DCNv2/\n",
        "!python setup.py build develop"
      ],
      "metadata": {
        "colab": {
          "base_uri": "https://localhost:8080/"
        },
        "id": "Fc9kEBlX16U5",
        "outputId": "200832de-dc2a-4377-8d84-2546122cc140"
      },
      "execution_count": null,
      "outputs": [
        {
          "output_type": "stream",
          "name": "stdout",
          "text": [
            "/content/gdrive/MyDrive/TCC/yolact/external/DCNv2\n",
            "running build\n",
            "running build_ext\n",
            "running develop\n",
            "running egg_info\n",
            "writing DCNv2.egg-info/PKG-INFO\n",
            "writing dependency_links to DCNv2.egg-info/dependency_links.txt\n",
            "writing top-level names to DCNv2.egg-info/top_level.txt\n",
            "adding license file 'LICENSE'\n",
            "writing manifest file 'DCNv2.egg-info/SOURCES.txt'\n",
            "running build_ext\n",
            "copying build/lib.linux-x86_64-3.7/_ext.cpython-37m-x86_64-linux-gnu.so -> \n",
            "Creating /usr/local/lib/python3.7/dist-packages/DCNv2.egg-link (link to .)\n",
            "Adding DCNv2 0.1 to easy-install.pth file\n",
            "\n",
            "Installed /content/gdrive/MyDrive/TCC/yolact/external/DCNv2\n",
            "Processing dependencies for DCNv2==0.1\n",
            "Finished processing dependencies for DCNv2==0.1\n"
          ]
        }
      ]
    },
    {
      "cell_type": "code",
      "source": [
        "%cd /content/gdrive/MyDrive/TCC/yolact\n",
        "!python eval.py --trained_model=weights/yolact_plus_resnet50_bracol_312_10000.pth"
      ],
      "metadata": {
        "colab": {
          "base_uri": "https://localhost:8080/"
        },
        "id": "s8jQqEQeXG31",
        "outputId": "10a90555-dff8-4c7f-86e8-abf74cae080d"
      },
      "execution_count": null,
      "outputs": [
        {
          "output_type": "stream",
          "name": "stdout",
          "text": [
            "/content/gdrive/MyDrive/TCC/yolact\n",
            "Config not specified. Parsed yolact_plus_resnet50_bracol_config from the file name.\n",
            "\n",
            "loading annotations into memory...\n",
            "Done (t=0.37s)\n",
            "creating index...\n",
            "index created!\n",
            "Loading model... Done.\n",
            "\n",
            "Processing Images  ██████████████████████████████     33 /     33 (100.00%)     2.11 fps        \n",
            "Saving data...\n",
            "Calculating mAP...\n",
            "#################### Class: miner ####################\n",
            "\n",
            "       |  all  |  .50  |  .55  |  .60  |  .65  |  .70  |  .75  |  .80  |  .85  |  .90  |  .95  |\n",
            "-------+-------+-------+-------+-------+-------+-------+-------+-------+-------+-------+-------+\n",
            "   box | 64.93 | 86.49 | 86.49 | 86.49 | 86.49 | 86.49 | 76.23 | 72.46 | 62.25 |  5.94 |  0.00 |\n",
            "  mask | 70.93 | 86.49 | 86.49 | 86.49 | 86.49 | 86.49 | 82.36 | 80.20 | 72.77 | 41.50 |  0.00 |\n",
            "-------+-------+-------+-------+-------+-------+-------+-------+-------+-------+-------+-------+\n",
            "\n",
            "#################### Class: rust ####################\n",
            "\n",
            "       |  all  |  .50  |  .55  |  .60  |  .65  |  .70  |  .75  |  .80  |  .85  |  .90  |  .95  |\n",
            "-------+-------+-------+-------+-------+-------+-------+-------+-------+-------+-------+-------+\n",
            "   box | 21.99 | 53.79 | 44.55 | 39.03 | 32.91 | 25.62 | 13.52 |  7.85 |  1.87 |  0.74 |  0.00 |\n",
            "  mask | 22.29 | 50.71 | 47.56 | 39.08 | 36.07 | 23.00 | 18.12 |  6.88 |  1.21 |  0.25 |  0.00 |\n",
            "-------+-------+-------+-------+-------+-------+-------+-------+-------+-------+-------+-------+\n",
            "\n",
            "#################### Class: phoma ####################\n",
            "\n",
            "       |  all  |  .50  |  .55  |  .60  |  .65  |  .70  |  .75  |  .80  |  .85  |  .90  |  .95  |\n",
            "-------+-------+-------+-------+-------+-------+-------+-------+-------+-------+-------+-------+\n",
            "   box | 71.00 | 94.86 | 94.86 | 94.86 | 94.86 | 94.86 | 75.02 | 70.37 | 62.90 | 27.23 |  0.19 |\n",
            "  mask | 70.22 | 90.85 | 86.20 | 86.20 | 86.20 | 86.20 | 81.48 | 81.48 | 69.32 | 32.29 |  1.98 |\n",
            "-------+-------+-------+-------+-------+-------+-------+-------+-------+-------+-------+-------+\n",
            "\n",
            "#################### Class: cercospora ####################\n",
            "\n",
            "       |  all  |  .50  |  .55  |  .60  |  .65  |  .70  |  .75  |  .80  |  .85  |  .90  |  .95  |\n",
            "-------+-------+-------+-------+-------+-------+-------+-------+-------+-------+-------+-------+\n",
            "   box | 41.20 | 55.64 | 55.64 | 55.64 | 55.64 | 55.64 | 55.64 | 55.64 | 18.32 |  4.16 |  0.00 |\n",
            "  mask | 38.66 | 55.78 | 55.78 | 55.78 | 55.78 | 55.78 | 55.78 | 20.79 | 20.79 | 10.40 |  0.00 |\n",
            "-------+-------+-------+-------+-------+-------+-------+-------+-------+-------+-------+-------+\n",
            "\n",
            "\n",
            "       |  all  |  .50  |  .55  |  .60  |  .65  |  .70  |  .75  |  .80  |  .85  |  .90  |  .95  |\n",
            "-------+-------+-------+-------+-------+-------+-------+-------+-------+-------+-------+-------+\n",
            "   box | 49.78 | 72.70 | 70.39 | 69.01 | 67.48 | 65.66 | 55.11 | 51.58 | 36.34 |  9.52 |  0.05 |\n",
            "  mask | 50.52 | 70.96 | 69.01 | 66.89 | 66.13 | 62.87 | 59.43 | 47.34 | 41.02 | 21.11 |  0.50 |\n",
            "-------+-------+-------+-------+-------+-------+-------+-------+-------+-------+-------+-------+\n",
            "\n"
          ]
        }
      ]
    },
    {
      "cell_type": "code",
      "source": [
        "!python eval.py --trained_model=weights/yolact_plus_resnet50_bracot_177_5338_interrupt.pth"
      ],
      "metadata": {
        "colab": {
          "base_uri": "https://localhost:8080/"
        },
        "id": "gih9NTMBXR6O",
        "outputId": "caec4c6c-0492-412c-d345-ebafbf163980"
      },
      "execution_count": null,
      "outputs": [
        {
          "output_type": "stream",
          "name": "stdout",
          "text": [
            "Config not specified. Parsed yolact_plus_resnet50_bracot_config from the file name.\n",
            "\n",
            "loading annotations into memory...\n",
            "Done (t=0.33s)\n",
            "creating index...\n",
            "index created!\n",
            "Loading model... Done.\n",
            "\n",
            "Processing Images  ██████████████████████████████     60 /     60 (100.00%)     3.55 fps        \n",
            "Saving data...\n",
            "Calculating mAP...\n",
            "#################### Class: Leaf ####################\n",
            "\n",
            "       |  all  |  .50  |  .55  |  .60  |  .65  |  .70  |  .75  |  .80  |  .85  |  .90  |  .95  |\n",
            "-------+-------+-------+-------+-------+-------+-------+-------+-------+-------+-------+-------+\n",
            "   box | 54.08 | 77.02 | 76.85 | 76.11 | 75.27 | 71.76 | 68.56 | 55.75 | 31.63 |  7.58 |  0.23 |\n",
            "  mask | 62.23 | 75.66 | 75.61 | 75.51 | 73.29 | 71.83 | 69.85 | 67.23 | 59.38 | 43.86 | 10.13 |\n",
            "-------+-------+-------+-------+-------+-------+-------+-------+-------+-------+-------+-------+\n",
            "\n",
            "#################### Class: None ####################\n",
            "\n",
            "       |  all  |  .50  |  .55  |  .60  |  .65  |  .70  |  .75  |  .80  |  .85  |  .90  |  .95  |\n",
            "-------+-------+-------+-------+-------+-------+-------+-------+-------+-------+-------+-------+\n",
            "   box |  0.00 |  0.00 |  0.00 |  0.00 |  0.00 |  0.00 |  0.00 |  0.00 |  0.00 |  0.00 |  0.00 |\n",
            "  mask |  0.00 |  0.00 |  0.00 |  0.00 |  0.00 |  0.00 |  0.00 |  0.00 |  0.00 |  0.00 |  0.00 |\n",
            "-------+-------+-------+-------+-------+-------+-------+-------+-------+-------+-------+-------+\n",
            "\n",
            "\n",
            "       |  all  |  .50  |  .55  |  .60  |  .65  |  .70  |  .75  |  .80  |  .85  |  .90  |  .95  |\n",
            "-------+-------+-------+-------+-------+-------+-------+-------+-------+-------+-------+-------+\n",
            "   box | 27.04 | 38.51 | 38.42 | 38.05 | 37.64 | 35.88 | 34.28 | 27.87 | 15.82 |  3.79 |  0.12 |\n",
            "  mask | 31.12 | 37.83 | 37.80 | 37.76 | 36.64 | 35.92 | 34.92 | 33.61 | 29.69 | 21.93 |  5.06 |\n",
            "-------+-------+-------+-------+-------+-------+-------+-------+-------+-------+-------+-------+\n",
            "\n"
          ]
        }
      ]
    },
    {
      "cell_type": "code",
      "source": [
        "%cd /content/gdrive/MyDrive/TCC/yolact\n",
        "!python eval.py --trained_model=weights/yolact_plus_resnet50_rocole_267_34784_interrupt.pth"
      ],
      "metadata": {
        "colab": {
          "base_uri": "https://localhost:8080/"
        },
        "id": "BJHfunRLXYFY",
        "outputId": "a24dcf6d-d506-46f4-faef-9ba38c6c7d94"
      },
      "execution_count": null,
      "outputs": [
        {
          "output_type": "stream",
          "name": "stdout",
          "text": [
            "/content/gdrive/MyDrive/TCC/yolact\n",
            "Config not specified. Parsed yolact_plus_resnet50_rocole_config from the file name.\n",
            "\n",
            "loading annotations into memory...\n",
            "Done (t=0.01s)\n",
            "creating index...\n",
            "index created!\n",
            "Loading model... Done.\n",
            "\n",
            "Processing Images  ██████████████████████████████    449 /    449 (100.00%)     2.69 fps        \n",
            "Saving data...\n",
            "Calculating mAP...\n",
            "#################### Class: healthy ####################\n",
            "\n",
            "       |  all  |  .50  |  .55  |  .60  |  .65  |  .70  |  .75  |  .80  |  .85  |  .90  |  .95  |\n",
            "-------+-------+-------+-------+-------+-------+-------+-------+-------+-------+-------+-------+\n",
            "   box | 76.48 | 93.58 | 93.58 | 92.25 | 91.32 | 90.61 | 90.40 | 85.96 | 77.28 | 44.60 |  5.20 |\n",
            "  mask | 82.17 | 93.52 | 93.52 | 93.14 | 93.14 | 93.14 | 92.36 | 91.87 | 87.36 | 65.71 | 17.92 |\n",
            "-------+-------+-------+-------+-------+-------+-------+-------+-------+-------+-------+-------+\n",
            "\n",
            "#################### Class: red_spider_mite ####################\n",
            "\n",
            "       |  all  |  .50  |  .55  |  .60  |  .65  |  .70  |  .75  |  .80  |  .85  |  .90  |  .95  |\n",
            "-------+-------+-------+-------+-------+-------+-------+-------+-------+-------+-------+-------+\n",
            "   box | 43.83 | 61.92 | 61.92 | 61.92 | 58.02 | 58.02 | 49.77 | 47.98 | 27.40 | 11.01 |  0.33 |\n",
            "  mask | 48.02 | 59.69 | 59.69 | 59.69 | 57.00 | 54.85 | 50.96 | 48.37 | 44.60 | 35.23 | 10.15 |\n",
            "-------+-------+-------+-------+-------+-------+-------+-------+-------+-------+-------+-------+\n",
            "\n",
            "#################### Class: rust_level_1 ####################\n",
            "\n",
            "       |  all  |  .50  |  .55  |  .60  |  .65  |  .70  |  .75  |  .80  |  .85  |  .90  |  .95  |\n",
            "-------+-------+-------+-------+-------+-------+-------+-------+-------+-------+-------+-------+\n",
            "   box | 54.60 | 65.62 | 65.62 | 65.62 | 65.62 | 65.62 | 65.62 | 64.14 | 56.99 | 29.99 |  1.25 |\n",
            "  mask | 54.89 | 61.98 | 61.98 | 61.98 | 61.98 | 60.89 | 60.13 | 60.13 | 60.13 | 47.97 | 11.68 |\n",
            "-------+-------+-------+-------+-------+-------+-------+-------+-------+-------+-------+-------+\n",
            "\n",
            "#################### Class: rust_level_2 ####################\n",
            "\n",
            "       |  all  |  .50  |  .55  |  .60  |  .65  |  .70  |  .75  |  .80  |  .85  |  .90  |  .95  |\n",
            "-------+-------+-------+-------+-------+-------+-------+-------+-------+-------+-------+-------+\n",
            "   box | 38.02 | 48.04 | 45.07 | 45.07 | 45.07 | 45.07 | 44.27 | 42.96 | 41.61 | 22.83 |  0.16 |\n",
            "  mask | 38.21 | 41.59 | 41.59 | 41.59 | 41.59 | 41.59 | 41.59 | 41.59 | 40.78 | 35.64 | 14.60 |\n",
            "-------+-------+-------+-------+-------+-------+-------+-------+-------+-------+-------+-------+\n",
            "\n",
            "#################### Class: rust_level_3 ####################\n",
            "\n",
            "       |  all  |  .50  |  .55  |  .60  |  .65  |  .70  |  .75  |  .80  |  .85  |  .90  |  .95  |\n",
            "-------+-------+-------+-------+-------+-------+-------+-------+-------+-------+-------+-------+\n",
            "   box | 26.55 | 31.70 | 31.70 | 31.70 | 30.15 | 30.15 | 30.15 | 30.15 | 25.03 | 24.68 |  0.06 |\n",
            "  mask | 31.87 | 33.95 | 33.95 | 33.95 | 33.95 | 33.95 | 33.95 | 33.95 | 33.95 | 29.85 | 17.26 |\n",
            "-------+-------+-------+-------+-------+-------+-------+-------+-------+-------+-------+-------+\n",
            "\n",
            "#################### Class: rust_level_4 ####################\n",
            "\n",
            "       |  all  |  .50  |  .55  |  .60  |  .65  |  .70  |  .75  |  .80  |  .85  |  .90  |  .95  |\n",
            "-------+-------+-------+-------+-------+-------+-------+-------+-------+-------+-------+-------+\n",
            "   box | 19.24 | 40.98 | 24.77 | 24.77 | 24.77 | 24.77 | 12.94 | 12.94 | 12.94 | 11.16 |  2.38 |\n",
            "  mask | 13.41 | 24.93 | 13.08 | 13.08 | 13.08 | 13.08 | 13.08 | 13.08 | 13.08 | 13.08 |  4.55 |\n",
            "-------+-------+-------+-------+-------+-------+-------+-------+-------+-------+-------+-------+\n",
            "\n",
            "#################### Class: none ####################\n",
            "\n",
            "       |  all  |  .50  |  .55  |  .60  |  .65  |  .70  |  .75  |  .80  |  .85  |  .90  |  .95  |\n",
            "-------+-------+-------+-------+-------+-------+-------+-------+-------+-------+-------+-------+\n",
            "   box |  0.00 |  0.00 |  0.00 |  0.00 |  0.00 |  0.00 |  0.00 |  0.00 |  0.00 |  0.00 |  0.00 |\n",
            "  mask |  0.00 |  0.00 |  0.00 |  0.00 |  0.00 |  0.00 |  0.00 |  0.00 |  0.00 |  0.00 |  0.00 |\n",
            "-------+-------+-------+-------+-------+-------+-------+-------+-------+-------+-------+-------+\n",
            "\n",
            "\n",
            "       |  all  |  .50  |  .55  |  .60  |  .65  |  .70  |  .75  |  .80  |  .85  |  .90  |  .95  |\n",
            "-------+-------+-------+-------+-------+-------+-------+-------+-------+-------+-------+-------+\n",
            "   box | 36.96 | 48.83 | 46.09 | 45.90 | 44.99 | 44.89 | 41.88 | 40.59 | 34.46 | 20.61 |  1.34 |\n",
            "  mask | 38.37 | 45.09 | 43.40 | 43.35 | 42.96 | 42.50 | 41.72 | 41.28 | 39.99 | 32.50 | 10.88 |\n",
            "-------+-------+-------+-------+-------+-------+-------+-------+-------+-------+-------+-------+\n",
            "\n"
          ]
        }
      ]
    },
    {
      "cell_type": "code",
      "source": [
        "%cd /content/gdrive/MyDrive/TCC/yolact\n",
        "# !python eval.py --trained_model=weights/yolact_plus_resnet50_bracol_312_10000.pth --output_coco_json\n",
        "!python eval.py --trained_model=weights/yolact_plus_resnet50_rocole_267_34784_interrupt.pth --score_threshold=0.6 --top_k=15 --images=rocole-original:rocole_originalsize_results\n"
      ],
      "metadata": {
        "colab": {
          "base_uri": "https://localhost:8080/"
        },
        "id": "XH3-x6pI3IMa",
        "outputId": "90629de1-a36a-4e63-a496-4d97b0222c94"
      },
      "execution_count": null,
      "outputs": [
        {
          "output_type": "stream",
          "name": "stdout",
          "text": [
            "/content/gdrive/MyDrive/TCC/yolact\n",
            "Config not specified. Parsed yolact_plus_resnet50_rocole_config from the file name.\n",
            "\n",
            "Loading model... Done.\n",
            "\n",
            "rocole-original/C3P35H2.jpg -> rocole_originalsize_results/C3P35H2.png\n",
            "Done.\n"
          ]
        }
      ]
    },
    {
      "cell_type": "code",
      "source": [
        "%cd /content/gdrive/MyDrive/TCC/yolact\n",
        "# !python eval.py --trained_model=weights/yolact_plus_resnet50_bracol_312_10000.pth --output_coco_json\n",
        "!python eval.py --trained_model=weights/yolact_plus_resnet50_bracol_312_10000.pth --score_threshold=0.6 --top_k=15 --images=dataset/bracol-annotated/test:bracol-original-size"
      ],
      "metadata": {
        "id": "V8jUzZG76B-5",
        "colab": {
          "base_uri": "https://localhost:8080/"
        },
        "outputId": "9a6b3548-a532-4baf-e863-34f58011f425"
      },
      "execution_count": null,
      "outputs": [
        {
          "output_type": "stream",
          "name": "stdout",
          "text": [
            "/content/gdrive/MyDrive/TCC/yolact\n",
            "Config not specified. Parsed yolact_plus_resnet50_bracol_config from the file name.\n",
            "\n",
            "Loading model... Done.\n",
            "\n",
            "dataset/bracol-annotated/test/1016.jpg -> bracol-original-size/1016.png\n",
            "dataset/bracol-annotated/test/1074.jpg -> bracol-original-size/1074.png\n",
            "dataset/bracol-annotated/test/1105.jpg -> bracol-original-size/1105.png\n",
            "dataset/bracol-annotated/test/1201.jpg -> bracol-original-size/1201.png\n",
            "dataset/bracol-annotated/test/1383.jpg -> bracol-original-size/1383.png\n",
            "dataset/bracol-annotated/test/1413.jpg -> bracol-original-size/1413.png\n",
            "dataset/bracol-annotated/test/1449.jpg -> bracol-original-size/1449.png\n",
            "dataset/bracol-annotated/test/146.jpg -> bracol-original-size/146.png\n",
            "dataset/bracol-annotated/test/1517.jpg -> bracol-original-size/1517.png\n",
            "dataset/bracol-annotated/test/1541.jpg -> bracol-original-size/1541.png\n",
            "dataset/bracol-annotated/test/1573.jpg -> bracol-original-size/1573.png\n",
            "dataset/bracol-annotated/test/1612.jpg -> bracol-original-size/1612.png\n",
            "dataset/bracol-annotated/test/1705.jpg -> bracol-original-size/1705.png\n",
            "dataset/bracol-annotated/test/2.jpg -> bracol-original-size/2.png\n",
            "dataset/bracol-annotated/test/21.jpg -> bracol-original-size/21.png\n",
            "dataset/bracol-annotated/test/218.jpg -> bracol-original-size/218.png\n",
            "dataset/bracol-annotated/test/242.jpg -> bracol-original-size/242.png\n",
            "dataset/bracol-annotated/test/268.jpg -> bracol-original-size/268.png\n",
            "dataset/bracol-annotated/test/291.jpg -> bracol-original-size/291.png\n",
            "dataset/bracol-annotated/test/330.jpg -> bracol-original-size/330.png\n",
            "dataset/bracol-annotated/test/349.jpg -> bracol-original-size/349.png\n",
            "dataset/bracol-annotated/test/371.jpg -> bracol-original-size/371.png\n",
            "dataset/bracol-annotated/test/395.jpg -> bracol-original-size/395.png\n",
            "dataset/bracol-annotated/test/419.jpg -> bracol-original-size/419.png\n",
            "dataset/bracol-annotated/test/443.jpg -> bracol-original-size/443.png\n",
            "dataset/bracol-annotated/test/446.jpg -> bracol-original-size/446.png\n",
            "dataset/bracol-annotated/test/47.jpg -> bracol-original-size/47.png\n",
            "dataset/bracol-annotated/test/488.jpg -> bracol-original-size/488.png\n",
            "dataset/bracol-annotated/test/529.jpg -> bracol-original-size/529.png\n",
            "dataset/bracol-annotated/test/566.jpg -> bracol-original-size/566.png\n",
            "dataset/bracol-annotated/test/627.jpg -> bracol-original-size/627.png\n",
            "dataset/bracol-annotated/test/628.jpg -> bracol-original-size/628.png\n",
            "dataset/bracol-annotated/test/68.jpg -> bracol-original-size/68.png\n",
            "dataset/bracol-annotated/test/680.jpg -> bracol-original-size/680.png\n",
            "dataset/bracol-annotated/test/694.jpg -> bracol-original-size/694.png\n",
            "dataset/bracol-annotated/test/742.jpg -> bracol-original-size/742.png\n",
            "dataset/bracol-annotated/test/771.jpg -> bracol-original-size/771.png\n",
            "dataset/bracol-annotated/test/792.jpg -> bracol-original-size/792.png\n",
            "dataset/bracol-annotated/test/828.jpg -> bracol-original-size/828.png\n",
            "dataset/bracol-annotated/test/866.jpg -> bracol-original-size/866.png\n",
            "dataset/bracol-annotated/test/88.jpg -> bracol-original-size/88.png\n",
            "dataset/bracol-annotated/test/960.jpg -> bracol-original-size/960.png\n",
            "dataset/bracol-annotated/test/992.jpg -> bracol-original-size/992.png\n",
            "Done.\n"
          ]
        }
      ]
    },
    {
      "cell_type": "code",
      "source": [],
      "metadata": {
        "id": "hbGOehCyDilc"
      },
      "execution_count": null,
      "outputs": []
    }
  ]
}